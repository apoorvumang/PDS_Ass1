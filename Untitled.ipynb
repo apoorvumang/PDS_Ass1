{
 "cells": [
  {
   "cell_type": "code",
   "execution_count": 2,
   "metadata": {},
   "outputs": [
    {
     "ename": "NameError",
     "evalue": "name 'D' is not defined",
     "output_type": "error",
     "traceback": [
      "\u001b[0;31m---------------------------------------------------------------------------\u001b[0m",
      "\u001b[0;31mNameError\u001b[0m                                 Traceback (most recent call last)",
      "\u001b[0;32m<ipython-input-2-39e0574a4abf>\u001b[0m in \u001b[0;36m<module>\u001b[0;34m()\u001b[0m\n\u001b[0;32m----> 1\u001b[0;31m \u001b[0mD\u001b[0m\u001b[0;34m\u001b[0m\u001b[0m\n\u001b[0m",
      "\u001b[0;31mNameError\u001b[0m: name 'D' is not defined"
     ]
    }
   ],
   "source": [
    "D\n"
   ]
  },
  {
   "cell_type": "code",
   "execution_count": 5,
   "metadata": {},
   "outputs": [
    {
     "data": {
      "text/plain": [
       "RidgeCV(alphas=array([ 0.1,  1. , 10. ]), cv=3, fit_intercept=True,\n",
       "    gcv_mode=None, normalize=False, scoring=None, store_cv_values=False)"
      ]
     },
     "execution_count": 5,
     "metadata": {},
     "output_type": "execute_result"
    }
   ],
   "source": [
    "from sklearn import linear_model\n",
    "reg = linear_model.RidgeCV(alphas=[0.1, 1.0, 10.0], cv=3)\n",
    "reg.fit([[0, 0], [0, 0], [1, 1]], [0, .1, 1])       \n"
   ]
  },
  {
   "cell_type": "code",
   "execution_count": 6,
   "metadata": {},
   "outputs": [
    {
     "data": {
      "text/plain": [
       "0.1"
      ]
     },
     "execution_count": 6,
     "metadata": {},
     "output_type": "execute_result"
    }
   ],
   "source": [
    "from sklearn import linear_model\n",
    "reg = linear_model.RidgeCV(alphas=[0.1, 1.0, 10.0], cv=3)\n",
    "reg.fit([[0, 0], [0, 0], [1, 1]], [0, .1, 1])       \n",
    "\n",
    "\n",
    "reg.alpha_     "
   ]
  },
  {
   "cell_type": "code",
   "execution_count": 10,
   "metadata": {},
   "outputs": [
    {
     "name": "stdout",
     "output_type": "stream",
     "text": [
      "[0.34545455 0.34545455]\n"
     ]
    },
    {
     "data": {
      "text/plain": [
       "0.13636363636363638"
      ]
     },
     "execution_count": 10,
     "metadata": {},
     "output_type": "execute_result"
    }
   ],
   "source": [
    "from sklearn import linear_model\n",
    "reg = linear_model.Ridge(alpha=.5)\n",
    "reg.fit([[0, 0], [0, 0], [1, 1]], [0, .1, 1]) \n",
    "\n",
    "\n",
    "print reg.coef_\n",
    "\n",
    "reg.intercept_ "
   ]
  },
  {
   "cell_type": "code",
   "execution_count": 5,
   "metadata": {},
   "outputs": [
    {
     "name": "stdout",
     "output_type": "stream",
     "text": [
      "2019-02-13 00:30:51.988398\n",
      "Loading data..\n",
      "Data loaded.\n",
      "l = 250\n",
      "n = 463715\n",
      "d = 90\n",
      "X is (463715, 90)\n",
      "Y is (250, 90)\n",
      "2019-02-13 00:30:52.200393\n",
      "Writing data to file...\n",
      "Binary file written. Now writing text file...\n",
      "Text file written\n",
      "2019-02-13 00:31:08.320576\n",
      "Calculating norms for comparison:\n",
      "xtx - yty norm = \t16123357.99895073\n",
      "norm(X)^2/l = \t\t45324574958.2\n",
      "2019-02-13 00:31:08.462914\n"
     ]
    }
   ],
   "source": [
    "import numpy as np\n",
    "import math\n",
    "import datetime\n",
    "from sklearn import linear_model\n",
    "from sklearn.metrics import r2_score\n",
    "\n",
    "epsilon = 0.00000001\n",
    "def isRowZero(row):\n",
    "\tglobal epsilon\n",
    "\tfor entry in row:\n",
    "\t\tif(entry < 0):\n",
    "\t\t\tentry = -entry\n",
    "\t\tif(entry > epsilon):\n",
    "\t\t\treturn False\n",
    "\treturn True\n",
    "\n",
    "\n",
    "def getAlgoScores(reg, x_train, y_train, x_test, y_test):\n",
    "\treg.fit(x_train, y_train)\n",
    "\ty_pred = reg.predict(x_test)\n",
    "\tscore = r2_score(y_test, y_pred)\n",
    "\treturn score\n",
    "\n",
    "\n",
    "X = np.load(\"data/data_full_numpy.npy\")\n",
    "\n",
    "#Y is first column\n",
    "Y = X.T[0]\n",
    "#removing first column\n",
    "X = X.T[1:].T\n",
    "\n",
    "num_test = (len(X)*2)/10\n",
    "\n",
    "#divide test and train\n",
    "X_train = X[:-num_test]\n",
    "X_test = X[-num_test:]\n",
    "\n",
    "Y_train = Y[:-num_test]\n",
    "Y_test = Y[-num_test:]\n",
    "\n",
    "reg = linear_model.LinearRegression()\n",
    "print getAlgoScores(reg, X_train, Y_train, X_test, Y_test)\n",
    "\n",
    "reg = linear_model.RidgeCV(alphas=[0.1, 1.0, 10.0], cv=3)\n",
    "print getAlgoScores(reg, X_train, Y_train, X_test, Y_test)\n",
    "\n",
    "reg = linear_model.Lasso(alpha=0.1)\n",
    "print getAlgoScores(reg, X_train, Y_train, X_test, Y_test)\n"
   ]
  },
  {
   "cell_type": "code",
   "execution_count": 6,
   "metadata": {},
   "outputs": [
    {
     "name": "stdout",
     "output_type": "stream",
     "text": [
      "[[ 4.9943570e+01  2.1471140e+01  7.3077500e+01 ... -1.8222300e+00\n",
      "  -2.7463480e+01  2.2632700e+00]\n",
      " [ 4.8732150e+01  1.8429300e+01  7.0326790e+01 ...  1.2049410e+01\n",
      "   5.8434530e+01  2.6920610e+01]\n",
      " [ 5.0957140e+01  3.1856020e+01  5.5818510e+01 ... -5.8590000e-02\n",
      "   3.9670680e+01 -6.6345000e-01]\n",
      " ...\n",
      " [ 4.4376120e+01  1.6253100e+00  3.8165560e+01 ... -4.3994800e+00\n",
      "   2.2429410e+01 -4.1089300e+00]\n",
      " [ 4.4887230e+01  1.4147600e+01 -5.7069400e+00 ...  1.1570710e+01\n",
      "   1.0661509e+02  1.6808810e+01]\n",
      " [ 5.0322010e+01  6.7119100e+00  5.4056070e+01 ...  3.7773600e+00\n",
      "  -4.2948880e+01  5.2780000e-02]]\n"
     ]
    }
   ],
   "source": [
    "print X\n"
   ]
  },
  {
   "cell_type": "code",
   "execution_count": 7,
   "metadata": {},
   "outputs": [
    {
     "name": "stdout",
     "output_type": "stream",
     "text": [
      "[[24990.5946379  -3399.62136103  1788.17849362 ...  3452.28153539\n",
      "  20435.98065882  1692.5333413 ]\n",
      " [-3129.762308   -7213.65590178   478.12622567 ...  -888.78337451\n",
      "  17838.70649608  1708.47082542]\n",
      " [  451.76149615  1759.87439936 -4140.25292514 ...   174.47721403\n",
      "   4169.8746777   -124.8916105 ]\n",
      " ...\n",
      " [    0.             0.             0.         ...     0.\n",
      "      0.             0.        ]\n",
      " [    0.             0.             0.         ...     0.\n",
      "      0.             0.        ]\n",
      " [    0.             0.             0.         ...     0.\n",
      "      0.             0.        ]]\n"
     ]
    }
   ],
   "source": [
    "print Y"
   ]
  },
  {
   "cell_type": "code",
   "execution_count": 15,
   "metadata": {},
   "outputs": [
    {
     "name": "stdout",
     "output_type": "stream",
     "text": [
      "[[24990.5946379  -3129.762308     451.76149615 ...     0.\n",
      "      0.             0.        ]\n",
      " [-3399.62136103 -7213.65590178  1759.87439936 ...     0.\n",
      "      0.             0.        ]\n",
      " [ 1788.17849362   478.12622567 -4140.25292514 ...     0.\n",
      "      0.             0.        ]\n",
      " ...\n",
      " [ 3452.28153539  -888.78337451   174.47721403 ...     0.\n",
      "      0.             0.        ]\n",
      " [20435.98065882 17838.70649608  4169.8746777  ...     0.\n",
      "      0.             0.        ]\n",
      " [ 1692.5333413   1708.47082542  -124.8916105  ...     0.\n",
      "      0.             0.        ]]\n"
     ]
    }
   ],
   "source": [
    "print Y.T\n",
    "\n"
   ]
  },
  {
   "cell_type": "code",
   "execution_count": 8,
   "metadata": {},
   "outputs": [],
   "source": [
    "full = np.load(\"data/data_full_numpy.npy\")"
   ]
  },
  {
   "cell_type": "code",
   "execution_count": 20,
   "metadata": {},
   "outputs": [
    {
     "name": "stdout",
     "output_type": "stream",
     "text": [
      "[[ 2.0010000e+03  4.9943570e+01  2.1471140e+01 ... -1.8222300e+00\n",
      "  -2.7463480e+01  2.2632700e+00]\n",
      " [ 2.0010000e+03  4.8732150e+01  1.8429300e+01 ...  1.2049410e+01\n",
      "   5.8434530e+01  2.6920610e+01]\n",
      " [ 2.0010000e+03  5.0957140e+01  3.1856020e+01 ... -5.8590000e-02\n",
      "   3.9670680e+01 -6.6345000e-01]\n",
      " ...\n",
      " [ 2.0070000e+03  4.4376120e+01  1.6253100e+00 ... -4.3994800e+00\n",
      "   2.2429410e+01 -4.1089300e+00]\n",
      " [ 2.0060000e+03  4.4887230e+01  1.4147600e+01 ...  1.1570710e+01\n",
      "   1.0661509e+02  1.6808810e+01]\n",
      " [ 2.0070000e+03  5.0322010e+01  6.7119100e+00 ...  3.7773600e+00\n",
      "  -4.2948880e+01  5.2780000e-02]]\n"
     ]
    }
   ],
   "source": [
    "print full"
   ]
  },
  {
   "cell_type": "code",
   "execution_count": 19,
   "metadata": {},
   "outputs": [
    {
     "name": "stdout",
     "output_type": "stream",
     "text": [
      "2001.0\n"
     ]
    }
   ],
   "source": [
    "print full[0][0]"
   ]
  },
  {
   "cell_type": "code",
   "execution_count": 13,
   "metadata": {},
   "outputs": [],
   "source": [
    "y = []\n",
    "for i in range(0, len(full)):\n",
    "    y.append(full[i][0])"
   ]
  },
  {
   "cell_type": "code",
   "execution_count": 21,
   "metadata": {},
   "outputs": [
    {
     "name": "stderr",
     "output_type": "stream",
     "text": [
      "IOPub data rate exceeded.\n",
      "The notebook server will temporarily stop sending output\n",
      "to the client in order to avoid crashing it.\n",
      "To change this limit, set the config variable\n",
      "`--NotebookApp.iopub_data_rate_limit`.\n",
      "\n",
      "Current values:\n",
      "NotebookApp.iopub_data_rate_limit=1000000.0 (bytes/sec)\n",
      "NotebookApp.rate_limit_window=3.0 (secs)\n",
      "\n"
     ]
    }
   ],
   "source": [
    "print y\n"
   ]
  },
  {
   "cell_type": "code",
   "execution_count": 18,
   "metadata": {},
   "outputs": [
    {
     "name": "stdout",
     "output_type": "stream",
     "text": [
      "463715\n",
      "[2001.0, 2001.0, 2001.0, 2001.0, 2001.0, 2001.0, 2001.0, 2001.0, 2001.0, 2007.0, 2008.0, 2002.0, 2004.0, 2003.0, 1999.0, 2003.0, 2002.0, 1992.0, 1997.0, 1987.0]\n"
     ]
    }
   ],
   "source": [
    "print len(y)\n",
    "print y[0:20]"
   ]
  },
  {
   "cell_type": "code",
   "execution_count": 15,
   "metadata": {},
   "outputs": [],
   "source": [
    "f = open(\"data/y.txt\", \"w\")\n",
    "for target in y:\n",
    "    f.write(str(target) + '\\n')"
   ]
  },
  {
   "cell_type": "code",
   "execution_count": null,
   "metadata": {},
   "outputs": [],
   "source": [
    "import matplotlib.pyplot as plt\n"
   ]
  },
  {
   "cell_type": "code",
   "execution_count": 63,
   "metadata": {},
   "outputs": [
    {
     "data": {
      "text/plain": [
       "(array([   242,    201,    242,   1814,   6481,  17831,  24678,  55145,\n",
       "        137659, 219422]),\n",
       " array([1922. , 1930.9, 1939.8, 1948.7, 1957.6, 1966.5, 1975.4, 1984.3,\n",
       "        1993.2, 2002.1, 2011. ]))"
      ]
     },
     "execution_count": 63,
     "metadata": {},
     "output_type": "execute_result"
    }
   ],
   "source": [
    "np.histogram(y)\n"
   ]
  },
  {
   "cell_type": "code",
   "execution_count": 1,
   "metadata": {},
   "outputs": [
    {
     "name": "stdout",
     "output_type": "stream",
     "text": [
      "x\n"
     ]
    }
   ],
   "source": [
    "print \"x\""
   ]
  },
  {
   "cell_type": "code",
   "execution_count": 2,
   "metadata": {},
   "outputs": [
    {
     "ename": "NameError",
     "evalue": "name 'y' is not defined",
     "output_type": "error",
     "traceback": [
      "\u001b[0;31m---------------------------------------------------------------------------\u001b[0m",
      "\u001b[0;31mNameError\u001b[0m                                 Traceback (most recent call last)",
      "\u001b[0;32m<ipython-input-2-ecf1aead94c6>\u001b[0m in \u001b[0;36m<module>\u001b[0;34m()\u001b[0m\n\u001b[0;32m----> 1\u001b[0;31m \u001b[0;32mprint\u001b[0m \u001b[0my\u001b[0m\u001b[0;34m[\u001b[0m\u001b[0;34m:\u001b[0m\u001b[0;36m20\u001b[0m\u001b[0;34m]\u001b[0m\u001b[0;34m\u001b[0m\u001b[0m\n\u001b[0m",
      "\u001b[0;31mNameError\u001b[0m: name 'y' is not defined"
     ]
    }
   ],
   "source": [
    "print y[:20]"
   ]
  },
  {
   "cell_type": "code",
   "execution_count": 3,
   "metadata": {},
   "outputs": [
    {
     "ename": "NameError",
     "evalue": "name 'y' is not defined",
     "output_type": "error",
     "traceback": [
      "\u001b[0;31m---------------------------------------------------------------------------\u001b[0m",
      "\u001b[0;31mNameError\u001b[0m                                 Traceback (most recent call last)",
      "\u001b[0;32m<ipython-input-3-3bd31d684b1f>\u001b[0m in \u001b[0;36m<module>\u001b[0;34m()\u001b[0m\n\u001b[0;32m----> 1\u001b[0;31m \u001b[0;32mprint\u001b[0m \u001b[0my\u001b[0m\u001b[0;34m\u001b[0m\u001b[0m\n\u001b[0m",
      "\u001b[0;31mNameError\u001b[0m: name 'y' is not defined"
     ]
    }
   ],
   "source": [
    "print y"
   ]
  },
  {
   "cell_type": "code",
   "execution_count": 21,
   "metadata": {},
   "outputs": [
    {
     "name": "stdout",
     "output_type": "stream",
     "text": [
      "[[ 2.0010000e+03  4.9943570e+01  2.1471140e+01 ... -1.8222300e+00\n",
      "  -2.7463480e+01  2.2632700e+00]\n",
      " [ 2.0010000e+03  4.8732150e+01  1.8429300e+01 ...  1.2049410e+01\n",
      "   5.8434530e+01  2.6920610e+01]\n",
      " [ 2.0010000e+03  5.0957140e+01  3.1856020e+01 ... -5.8590000e-02\n",
      "   3.9670680e+01 -6.6345000e-01]\n",
      " ...\n",
      " [ 2.0070000e+03  4.4376120e+01  1.6253100e+00 ... -4.3994800e+00\n",
      "   2.2429410e+01 -4.1089300e+00]\n",
      " [ 2.0060000e+03  4.4887230e+01  1.4147600e+01 ...  1.1570710e+01\n",
      "   1.0661509e+02  1.6808810e+01]\n",
      " [ 2.0070000e+03  5.0322010e+01  6.7119100e+00 ...  3.7773600e+00\n",
      "  -4.2948880e+01  5.2780000e-02]]\n"
     ]
    }
   ],
   "source": [
    "print full"
   ]
  },
  {
   "cell_type": "code",
   "execution_count": 23,
   "metadata": {},
   "outputs": [
    {
     "name": "stdout",
     "output_type": "stream",
     "text": [
      "[[ 4.9943570e+01  2.1471140e+01  7.3077500e+01 ... -1.8222300e+00\n",
      "  -2.7463480e+01  2.2632700e+00]\n",
      " [ 4.8732150e+01  1.8429300e+01  7.0326790e+01 ...  1.2049410e+01\n",
      "   5.8434530e+01  2.6920610e+01]\n",
      " [ 5.0957140e+01  3.1856020e+01  5.5818510e+01 ... -5.8590000e-02\n",
      "   3.9670680e+01 -6.6345000e-01]\n",
      " ...\n",
      " [ 4.4376120e+01  1.6253100e+00  3.8165560e+01 ... -4.3994800e+00\n",
      "   2.2429410e+01 -4.1089300e+00]\n",
      " [ 4.4887230e+01  1.4147600e+01 -5.7069400e+00 ...  1.1570710e+01\n",
      "   1.0661509e+02  1.6808810e+01]\n",
      " [ 5.0322010e+01  6.7119100e+00  5.4056070e+01 ...  3.7773600e+00\n",
      "  -4.2948880e+01  5.2780000e-02]]\n"
     ]
    }
   ],
   "source": [
    "print X"
   ]
  },
  {
   "cell_type": "code",
   "execution_count": 24,
   "metadata": {},
   "outputs": [
    {
     "name": "stderr",
     "output_type": "stream",
     "text": [
      "IOPub data rate exceeded.\n",
      "The notebook server will temporarily stop sending output\n",
      "to the client in order to avoid crashing it.\n",
      "To change this limit, set the config variable\n",
      "`--NotebookApp.iopub_data_rate_limit`.\n",
      "\n",
      "Current values:\n",
      "NotebookApp.iopub_data_rate_limit=1000000.0 (bytes/sec)\n",
      "NotebookApp.rate_limit_window=3.0 (secs)\n",
      "\n"
     ]
    }
   ],
   "source": [
    "print y"
   ]
  },
  {
   "cell_type": "code",
   "execution_count": 25,
   "metadata": {},
   "outputs": [
    {
     "name": "stdout",
     "output_type": "stream",
     "text": [
      "[[ 4.9943570e+01  2.1471140e+01  7.3077500e+01 ... -1.8222300e+00\n",
      "  -2.7463480e+01  2.2632700e+00]\n",
      " [ 4.8732150e+01  1.8429300e+01  7.0326790e+01 ...  1.2049410e+01\n",
      "   5.8434530e+01  2.6920610e+01]\n",
      " [ 5.0957140e+01  3.1856020e+01  5.5818510e+01 ... -5.8590000e-02\n",
      "   3.9670680e+01 -6.6345000e-01]\n",
      " ...\n",
      " [ 4.4376120e+01  1.6253100e+00  3.8165560e+01 ... -4.3994800e+00\n",
      "   2.2429410e+01 -4.1089300e+00]\n",
      " [ 4.4887230e+01  1.4147600e+01 -5.7069400e+00 ...  1.1570710e+01\n",
      "   1.0661509e+02  1.6808810e+01]\n",
      " [ 5.0322010e+01  6.7119100e+00  5.4056070e+01 ...  3.7773600e+00\n",
      "  -4.2948880e+01  5.2780000e-02]]\n"
     ]
    }
   ],
   "source": [
    "print X\n"
   ]
  },
  {
   "cell_type": "code",
   "execution_count": 26,
   "metadata": {},
   "outputs": [
    {
     "name": "stdout",
     "output_type": "stream",
     "text": [
      "X stores matrix without target, y is the target array\n"
     ]
    }
   ],
   "source": [
    "print \"X stores matrix without target, y is the target array\""
   ]
  },
  {
   "cell_type": "code",
   "execution_count": 27,
   "metadata": {},
   "outputs": [],
   "source": [
    "X_train = X[:-10000]"
   ]
  },
  {
   "cell_type": "code",
   "execution_count": 28,
   "metadata": {},
   "outputs": [],
   "source": [
    "X_test = X[-10000:]"
   ]
  },
  {
   "cell_type": "code",
   "execution_count": 29,
   "metadata": {},
   "outputs": [],
   "source": [
    "y_train = y[:-10000]"
   ]
  },
  {
   "cell_type": "code",
   "execution_count": 30,
   "metadata": {},
   "outputs": [],
   "source": [
    "y_test = y[-10000:]"
   ]
  },
  {
   "cell_type": "code",
   "execution_count": 32,
   "metadata": {},
   "outputs": [
    {
     "name": "stdout",
     "output_type": "stream",
     "text": [
      "10000\n"
     ]
    }
   ],
   "source": [
    "print len(y_test)"
   ]
  },
  {
   "cell_type": "code",
   "execution_count": 35,
   "metadata": {},
   "outputs": [],
   "source": [
    "regr = linear_model.LinearRegression()"
   ]
  },
  {
   "cell_type": "code",
   "execution_count": 36,
   "metadata": {},
   "outputs": [
    {
     "data": {
      "text/plain": [
       "LinearRegression(copy_X=True, fit_intercept=True, n_jobs=None,\n",
       "         normalize=False)"
      ]
     },
     "execution_count": 36,
     "metadata": {},
     "output_type": "execute_result"
    }
   ],
   "source": [
    "regr.fit(X_train, y_train)"
   ]
  },
  {
   "cell_type": "code",
   "execution_count": 34,
   "metadata": {},
   "outputs": [],
   "source": [
    "import matplotlib.pyplot as plt\n",
    "import numpy as np\n",
    "from sklearn import datasets, linear_model\n",
    "from sklearn.metrics import mean_squared_error, r2_score\n"
   ]
  },
  {
   "cell_type": "code",
   "execution_count": 44,
   "metadata": {},
   "outputs": [],
   "source": [
    "y_pred = regr.predict(X_train[0:20])"
   ]
  },
  {
   "cell_type": "code",
   "execution_count": 45,
   "metadata": {},
   "outputs": [
    {
     "name": "stdout",
     "output_type": "stream",
     "text": [
      "[1997.24033336 1999.38422609 1997.44409639 2001.30036184 1999.53743194\n",
      " 1998.29341969 1999.21665373 1997.38753237 1999.29600111 2000.51893549\n",
      " 1996.0069327  1997.90500537 1995.37557314 2006.29817924 2003.33448448\n",
      " 1998.43939112 1999.63762171 1992.8597616  1986.59418135 1991.49030658]\n"
     ]
    }
   ],
   "source": [
    "print y_pred"
   ]
  },
  {
   "cell_type": "code",
   "execution_count": 46,
   "metadata": {},
   "outputs": [
    {
     "name": "stdout",
     "output_type": "stream",
     "text": [
      "[2001.0, 2001.0, 2001.0, 2001.0, 2001.0, 2001.0, 2001.0, 2001.0, 2001.0, 2007.0, 2008.0, 2002.0, 2004.0, 2003.0, 1999.0, 2003.0, 2002.0, 1992.0, 1997.0, 1987.0]\n"
     ]
    }
   ],
   "source": [
    "print y_train[0:20]"
   ]
  },
  {
   "cell_type": "code",
   "execution_count": 40,
   "metadata": {},
   "outputs": [
    {
     "name": "stdout",
     "output_type": "stream",
     "text": [
      "[1966.0, 1966.0, 1985.0, 1966.0, 1987.0, 1967.0, 1968.0, 1991.0, 1967.0, 1966.0, 1968.0, 1987.0, 1966.0, 1991.0, 1987.0, 1987.0, 1974.0, 1968.0, 1966.0, 1968.0]\n"
     ]
    }
   ],
   "source": [
    "print y_test[:20]"
   ]
  },
  {
   "cell_type": "code",
   "execution_count": 41,
   "metadata": {},
   "outputs": [
    {
     "name": "stdout",
     "output_type": "stream",
     "text": [
      "[2001.0, 2001.0, 2001.0, 2001.0, 2001.0, 2001.0, 2001.0, 2001.0, 2001.0, 2007.0, 2008.0, 2002.0, 2004.0, 2003.0, 1999.0, 2003.0, 2002.0, 1992.0, 1997.0, 1987.0]\n"
     ]
    }
   ],
   "source": [
    "print y_train[:20]"
   ]
  },
  {
   "cell_type": "code",
   "execution_count": 42,
   "metadata": {},
   "outputs": [
    {
     "name": "stdout",
     "output_type": "stream",
     "text": [
      "('Coefficients: \\n', array([ 8.71908709e-01, -5.56453928e-02, -4.31824830e-02,  2.92284012e-03,\n",
      "       -1.48249220e-02, -2.20762481e-01, -5.31141122e-03, -1.03632513e-01,\n",
      "       -6.76273468e-02,  2.15549008e-02, -1.64048308e-01, -2.04952454e-03,\n",
      "        4.67841727e-02,  3.55418269e-04, -4.29528119e-04,  6.20059313e-04,\n",
      "        4.42961494e-04,  1.44658687e-03,  1.95539165e-03,  2.23976294e-03,\n",
      "        6.25100408e-04, -4.73912204e-04,  7.59663108e-03,  2.72063942e-03,\n",
      "       -3.57209655e-03,  5.21064193e-05,  1.60443876e-03,  4.83997869e-04,\n",
      "        8.86023766e-04, -2.44501743e-04, -1.22024427e-03, -1.52646861e-03,\n",
      "       -5.35597708e-03,  2.60118490e-03,  1.72506669e-03, -5.26220064e-03,\n",
      "       -2.72462548e-04,  6.61262971e-04,  1.43790514e-03, -1.71978671e-03,\n",
      "       -2.08736782e-03, -8.03584381e-04, -1.62640492e-03, -2.36656884e-03,\n",
      "       -3.41960411e-03,  6.86241700e-03,  4.81305710e-04, -2.06164531e-03,\n",
      "        2.22558746e-04,  2.01499687e-03,  2.97486820e-06, -1.65073535e-03,\n",
      "        1.98543739e-03,  1.80033455e-04, -3.44126361e-04,  1.30844649e-04,\n",
      "       -1.87574807e-03,  1.87821109e-03, -1.23695912e-03,  3.14126419e-04,\n",
      "       -2.98657379e-03, -1.78820747e-03, -7.84444201e-03,  1.16069007e-03,\n",
      "       -2.07249039e-03,  7.20821809e-04, -1.02476511e-04, -4.25015475e-04,\n",
      "       -4.18135399e-03, -5.05748058e-03, -1.03225894e-03,  3.23154532e-04,\n",
      "        7.50394895e-04,  4.28708182e-03,  2.88693946e-03,  1.49980892e-02,\n",
      "        2.20583765e-04, -4.55368928e-03, -1.72160631e-05, -1.45202003e-04,\n",
      "       -6.34006084e-04, -6.36849107e-04,  1.30965014e-03,  1.05027138e-03,\n",
      "        2.79771199e-02,  5.37657482e-05,  1.19802549e-03, -3.02639128e-02,\n",
      "       -1.32877133e-03, -1.33626178e-03]))\n"
     ]
    }
   ],
   "source": [
    "print('Coefficients: \\n', regr.coef_)"
   ]
  },
  {
   "cell_type": "code",
   "execution_count": 47,
   "metadata": {},
   "outputs": [
    {
     "name": "stdout",
     "output_type": "stream",
     "text": [
      "Variance score: -0.31\n"
     ]
    }
   ],
   "source": [
    "print('Variance score: %.2f' % r2_score(y_train[0:20], y_pred))"
   ]
  },
  {
   "cell_type": "code",
   "execution_count": 48,
   "metadata": {},
   "outputs": [
    {
     "name": "stdout",
     "output_type": "stream",
     "text": [
      "[2001.0, 2001.0, 2001.0, 2001.0, 2001.0, 2001.0, 2001.0, 2001.0, 2001.0, 2007.0, 2008.0, 2002.0, 2004.0, 2003.0, 1999.0, 2003.0, 2002.0, 1992.0, 1997.0, 1987.0]\n"
     ]
    }
   ],
   "source": [
    "print y_train[0:20] "
   ]
  },
  {
   "cell_type": "code",
   "execution_count": 49,
   "metadata": {},
   "outputs": [
    {
     "name": "stdout",
     "output_type": "stream",
     "text": [
      "[1997.24033336 1999.38422609 1997.44409639 2001.30036184 1999.53743194\n",
      " 1998.29341969 1999.21665373 1997.38753237 1999.29600111 2000.51893549\n",
      " 1996.0069327  1997.90500537 1995.37557314 2006.29817924 2003.33448448\n",
      " 1998.43939112 1999.63762171 1992.8597616  1986.59418135 1991.49030658]\n"
     ]
    }
   ],
   "source": [
    "print y_pred"
   ]
  },
  {
   "cell_type": "code",
   "execution_count": 50,
   "metadata": {},
   "outputs": [
    {
     "name": "stdout",
     "output_type": "stream",
     "text": [
      "Variance score: -0.55\n"
     ]
    }
   ],
   "source": [
    "print('Variance score: %.2f' % r2_score(y_pred, y_train[0:20]))"
   ]
  },
  {
   "cell_type": "code",
   "execution_count": 51,
   "metadata": {},
   "outputs": [
    {
     "name": "stdout",
     "output_type": "stream",
     "text": [
      "Variance score: -0.31\n"
     ]
    }
   ],
   "source": [
    "print('Variance score: %.2f' % r2_score(y_train[0:20], y_pred))"
   ]
  },
  {
   "cell_type": "code",
   "execution_count": 60,
   "metadata": {},
   "outputs": [],
   "source": [
    "y_pred = regr.predict(X_train[:100000])"
   ]
  },
  {
   "cell_type": "code",
   "execution_count": 56,
   "metadata": {},
   "outputs": [
    {
     "data": {
      "text/plain": [
       "10000"
      ]
     },
     "execution_count": 56,
     "metadata": {},
     "output_type": "execute_result"
    }
   ],
   "source": [
    "len(y_pred)"
   ]
  },
  {
   "cell_type": "code",
   "execution_count": 61,
   "metadata": {},
   "outputs": [
    {
     "name": "stdout",
     "output_type": "stream",
     "text": [
      "Variance score: 0.23\n"
     ]
    }
   ],
   "source": [
    "print('Variance score: %.2f' % r2_score(y_train[:100000], y_pred))"
   ]
  },
  {
   "cell_type": "code",
   "execution_count": 62,
   "metadata": {},
   "outputs": [],
   "source": [
    "plt.show()"
   ]
  },
  {
   "cell_type": "code",
   "execution_count": 64,
   "metadata": {},
   "outputs": [
    {
     "data": {
      "text/plain": [
       "(array([2.42000e+02, 2.01000e+02, 2.42000e+02, 1.81400e+03, 6.48100e+03,\n",
       "        1.78310e+04, 2.46780e+04, 5.51450e+04, 1.37659e+05, 2.19422e+05]),\n",
       " array([1922. , 1930.9, 1939.8, 1948.7, 1957.6, 1966.5, 1975.4, 1984.3,\n",
       "        1993.2, 2002.1, 2011. ]),\n",
       " <a list of 10 Patch objects>)"
      ]
     },
     "execution_count": 64,
     "metadata": {},
     "output_type": "execute_result"
    }
   ],
   "source": [
    "plt.hist(y)"
   ]
  },
  {
   "cell_type": "code",
   "execution_count": 65,
   "metadata": {},
   "outputs": [],
   "source": [
    "plt.show()"
   ]
  },
  {
   "cell_type": "code",
   "execution_count": 66,
   "metadata": {},
   "outputs": [
    {
     "data": {
      "text/plain": [
       "(array([6.0000e+00, 0.0000e+00, 0.0000e+00, 0.0000e+00, 0.0000e+00,\n",
       "        0.0000e+00, 5.0000e+00, 0.0000e+00, 0.0000e+00, 7.0000e+00,\n",
       "        0.0000e+00, 0.0000e+00, 1.9000e+01, 0.0000e+00, 0.0000e+00,\n",
       "        0.0000e+00, 4.0000e+01, 0.0000e+00, 0.0000e+00, 4.8000e+01,\n",
       "        0.0000e+00, 0.0000e+00, 7.9000e+01, 0.0000e+00, 0.0000e+00,\n",
       "        3.8000e+01, 0.0000e+00, 0.0000e+00, 0.0000e+00, 3.1000e+01,\n",
       "        0.0000e+00, 0.0000e+00, 1.1000e+01, 0.0000e+00, 0.0000e+00,\n",
       "        6.0000e+00, 0.0000e+00, 0.0000e+00, 2.8000e+01, 0.0000e+00,\n",
       "        0.0000e+00, 0.0000e+00, 2.4000e+01, 0.0000e+00, 0.0000e+00,\n",
       "        2.2000e+01, 0.0000e+00, 0.0000e+00, 2.5000e+01, 0.0000e+00,\n",
       "        0.0000e+00, 1.9000e+01, 0.0000e+00, 0.0000e+00, 0.0000e+00,\n",
       "        3.5000e+01, 0.0000e+00, 0.0000e+00, 1.4000e+01, 0.0000e+00,\n",
       "        0.0000e+00, 3.1000e+01, 0.0000e+00, 0.0000e+00, 2.1000e+01,\n",
       "        0.0000e+00, 0.0000e+00, 1.3000e+01, 0.0000e+00, 0.0000e+00,\n",
       "        0.0000e+00, 1.4000e+01, 0.0000e+00, 0.0000e+00, 2.7000e+01,\n",
       "        0.0000e+00, 0.0000e+00, 2.9000e+01, 0.0000e+00, 0.0000e+00,\n",
       "        5.5000e+01, 0.0000e+00, 0.0000e+00, 0.0000e+00, 3.8000e+01,\n",
       "        0.0000e+00, 0.0000e+00, 5.3000e+01, 0.0000e+00, 0.0000e+00,\n",
       "        5.8000e+01, 0.0000e+00, 0.0000e+00, 6.2000e+01, 0.0000e+00,\n",
       "        0.0000e+00, 0.0000e+00, 6.5000e+01, 0.0000e+00, 0.0000e+00,\n",
       "        1.2100e+02, 0.0000e+00, 0.0000e+00, 1.0800e+02, 0.0000e+00,\n",
       "        0.0000e+00, 2.5300e+02, 0.0000e+00, 0.0000e+00, 0.0000e+00,\n",
       "        5.3500e+02, 0.0000e+00, 0.0000e+00, 5.5900e+02, 0.0000e+00,\n",
       "        0.0000e+00, 5.2200e+02, 0.0000e+00, 0.0000e+00, 5.4400e+02,\n",
       "        0.0000e+00, 0.0000e+00, 3.9800e+02, 0.0000e+00, 0.0000e+00,\n",
       "        0.0000e+00, 5.2100e+02, 0.0000e+00, 0.0000e+00, 5.8100e+02,\n",
       "        0.0000e+00, 0.0000e+00, 8.6700e+02, 0.0000e+00, 0.0000e+00,\n",
       "        8.5000e+02, 0.0000e+00, 0.0000e+00, 0.0000e+00, 9.9600e+02,\n",
       "        0.0000e+00, 0.0000e+00, 1.2020e+03, 0.0000e+00, 0.0000e+00,\n",
       "        1.5170e+03, 0.0000e+00, 0.0000e+00, 1.6550e+03, 0.0000e+00,\n",
       "        0.0000e+00, 0.0000e+00, 1.9860e+03, 0.0000e+00, 0.0000e+00,\n",
       "        2.1240e+03, 0.0000e+00, 0.0000e+00, 1.8660e+03, 0.0000e+00,\n",
       "        0.0000e+00, 2.0780e+03, 0.0000e+00, 0.0000e+00, 0.0000e+00,\n",
       "        2.3250e+03, 0.0000e+00, 0.0000e+00, 1.9830e+03, 0.0000e+00,\n",
       "        0.0000e+00, 2.2970e+03, 0.0000e+00, 0.0000e+00, 1.9570e+03,\n",
       "        0.0000e+00, 0.0000e+00, 2.2580e+03, 0.0000e+00, 0.0000e+00,\n",
       "        0.0000e+00, 2.5970e+03, 0.0000e+00, 0.0000e+00, 2.8640e+03,\n",
       "        0.0000e+00, 0.0000e+00, 2.7940e+03, 0.0000e+00, 0.0000e+00,\n",
       "        2.7880e+03, 0.0000e+00, 0.0000e+00, 0.0000e+00, 3.2840e+03,\n",
       "        0.0000e+00, 0.0000e+00, 3.0830e+03, 0.0000e+00, 0.0000e+00,\n",
       "        3.0530e+03, 0.0000e+00, 0.0000e+00, 3.2110e+03, 0.0000e+00,\n",
       "        0.0000e+00, 0.0000e+00, 3.7470e+03, 0.0000e+00, 0.0000e+00,\n",
       "        4.6080e+03, 0.0000e+00, 0.0000e+00, 5.1010e+03, 0.0000e+00,\n",
       "        0.0000e+00, 5.9440e+03, 0.0000e+00, 0.0000e+00, 0.0000e+00,\n",
       "        6.6060e+03, 0.0000e+00, 0.0000e+00, 7.7510e+03, 0.0000e+00,\n",
       "        0.0000e+00, 8.6150e+03, 0.0000e+00, 0.0000e+00, 9.5620e+03,\n",
       "        0.0000e+00, 0.0000e+00, 1.0882e+04, 0.0000e+00, 0.0000e+00,\n",
       "        0.0000e+00, 1.1806e+04, 0.0000e+00, 0.0000e+00, 1.2669e+04,\n",
       "        0.0000e+00, 0.0000e+00, 1.3639e+04, 0.0000e+00, 0.0000e+00,\n",
       "        1.4245e+04, 0.0000e+00, 0.0000e+00, 0.0000e+00, 1.6358e+04,\n",
       "        0.0000e+00, 0.0000e+00, 1.7354e+04, 0.0000e+00, 0.0000e+00,\n",
       "        1.9415e+04, 0.0000e+00, 0.0000e+00, 2.1291e+04, 0.0000e+00,\n",
       "        0.0000e+00, 0.0000e+00, 2.4574e+04, 0.0000e+00, 0.0000e+00,\n",
       "        2.6680e+04, 0.0000e+00, 0.0000e+00, 3.1454e+04, 0.0000e+00,\n",
       "        0.0000e+00, 3.3824e+04, 0.0000e+00, 0.0000e+00, 0.0000e+00,\n",
       "        3.5375e+04, 0.0000e+00, 0.0000e+00, 3.1244e+04, 0.0000e+00,\n",
       "        0.0000e+00, 2.7907e+04, 0.0000e+00, 0.0000e+00, 8.3630e+03,\n",
       "        0.0000e+00, 0.0000e+00, 1.0000e+00]),\n",
       " array([1922.        , 1922.30902778, 1922.61805556, 1922.92708333,\n",
       "        1923.23611111, 1923.54513889, 1923.85416667, 1924.16319444,\n",
       "        1924.47222222, 1924.78125   , 1925.09027778, 1925.39930556,\n",
       "        1925.70833333, 1926.01736111, 1926.32638889, 1926.63541667,\n",
       "        1926.94444444, 1927.25347222, 1927.5625    , 1927.87152778,\n",
       "        1928.18055556, 1928.48958333, 1928.79861111, 1929.10763889,\n",
       "        1929.41666667, 1929.72569444, 1930.03472222, 1930.34375   ,\n",
       "        1930.65277778, 1930.96180556, 1931.27083333, 1931.57986111,\n",
       "        1931.88888889, 1932.19791667, 1932.50694444, 1932.81597222,\n",
       "        1933.125     , 1933.43402778, 1933.74305556, 1934.05208333,\n",
       "        1934.36111111, 1934.67013889, 1934.97916667, 1935.28819444,\n",
       "        1935.59722222, 1935.90625   , 1936.21527778, 1936.52430556,\n",
       "        1936.83333333, 1937.14236111, 1937.45138889, 1937.76041667,\n",
       "        1938.06944444, 1938.37847222, 1938.6875    , 1938.99652778,\n",
       "        1939.30555556, 1939.61458333, 1939.92361111, 1940.23263889,\n",
       "        1940.54166667, 1940.85069444, 1941.15972222, 1941.46875   ,\n",
       "        1941.77777778, 1942.08680556, 1942.39583333, 1942.70486111,\n",
       "        1943.01388889, 1943.32291667, 1943.63194444, 1943.94097222,\n",
       "        1944.25      , 1944.55902778, 1944.86805556, 1945.17708333,\n",
       "        1945.48611111, 1945.79513889, 1946.10416667, 1946.41319444,\n",
       "        1946.72222222, 1947.03125   , 1947.34027778, 1947.64930556,\n",
       "        1947.95833333, 1948.26736111, 1948.57638889, 1948.88541667,\n",
       "        1949.19444444, 1949.50347222, 1949.8125    , 1950.12152778,\n",
       "        1950.43055556, 1950.73958333, 1951.04861111, 1951.35763889,\n",
       "        1951.66666667, 1951.97569444, 1952.28472222, 1952.59375   ,\n",
       "        1952.90277778, 1953.21180556, 1953.52083333, 1953.82986111,\n",
       "        1954.13888889, 1954.44791667, 1954.75694444, 1955.06597222,\n",
       "        1955.375     , 1955.68402778, 1955.99305556, 1956.30208333,\n",
       "        1956.61111111, 1956.92013889, 1957.22916667, 1957.53819444,\n",
       "        1957.84722222, 1958.15625   , 1958.46527778, 1958.77430556,\n",
       "        1959.08333333, 1959.39236111, 1959.70138889, 1960.01041667,\n",
       "        1960.31944444, 1960.62847222, 1960.9375    , 1961.24652778,\n",
       "        1961.55555556, 1961.86458333, 1962.17361111, 1962.48263889,\n",
       "        1962.79166667, 1963.10069444, 1963.40972222, 1963.71875   ,\n",
       "        1964.02777778, 1964.33680556, 1964.64583333, 1964.95486111,\n",
       "        1965.26388889, 1965.57291667, 1965.88194444, 1966.19097222,\n",
       "        1966.5       , 1966.80902778, 1967.11805556, 1967.42708333,\n",
       "        1967.73611111, 1968.04513889, 1968.35416667, 1968.66319444,\n",
       "        1968.97222222, 1969.28125   , 1969.59027778, 1969.89930556,\n",
       "        1970.20833333, 1970.51736111, 1970.82638889, 1971.13541667,\n",
       "        1971.44444444, 1971.75347222, 1972.0625    , 1972.37152778,\n",
       "        1972.68055556, 1972.98958333, 1973.29861111, 1973.60763889,\n",
       "        1973.91666667, 1974.22569444, 1974.53472222, 1974.84375   ,\n",
       "        1975.15277778, 1975.46180556, 1975.77083333, 1976.07986111,\n",
       "        1976.38888889, 1976.69791667, 1977.00694444, 1977.31597222,\n",
       "        1977.625     , 1977.93402778, 1978.24305556, 1978.55208333,\n",
       "        1978.86111111, 1979.17013889, 1979.47916667, 1979.78819444,\n",
       "        1980.09722222, 1980.40625   , 1980.71527778, 1981.02430556,\n",
       "        1981.33333333, 1981.64236111, 1981.95138889, 1982.26041667,\n",
       "        1982.56944444, 1982.87847222, 1983.1875    , 1983.49652778,\n",
       "        1983.80555556, 1984.11458333, 1984.42361111, 1984.73263889,\n",
       "        1985.04166667, 1985.35069444, 1985.65972222, 1985.96875   ,\n",
       "        1986.27777778, 1986.58680556, 1986.89583333, 1987.20486111,\n",
       "        1987.51388889, 1987.82291667, 1988.13194444, 1988.44097222,\n",
       "        1988.75      , 1989.05902778, 1989.36805556, 1989.67708333,\n",
       "        1989.98611111, 1990.29513889, 1990.60416667, 1990.91319444,\n",
       "        1991.22222222, 1991.53125   , 1991.84027778, 1992.14930556,\n",
       "        1992.45833333, 1992.76736111, 1993.07638889, 1993.38541667,\n",
       "        1993.69444444, 1994.00347222, 1994.3125    , 1994.62152778,\n",
       "        1994.93055556, 1995.23958333, 1995.54861111, 1995.85763889,\n",
       "        1996.16666667, 1996.47569444, 1996.78472222, 1997.09375   ,\n",
       "        1997.40277778, 1997.71180556, 1998.02083333, 1998.32986111,\n",
       "        1998.63888889, 1998.94791667, 1999.25694444, 1999.56597222,\n",
       "        1999.875     , 2000.18402778, 2000.49305556, 2000.80208333,\n",
       "        2001.11111111, 2001.42013889, 2001.72916667, 2002.03819444,\n",
       "        2002.34722222, 2002.65625   , 2002.96527778, 2003.27430556,\n",
       "        2003.58333333, 2003.89236111, 2004.20138889, 2004.51041667,\n",
       "        2004.81944444, 2005.12847222, 2005.4375    , 2005.74652778,\n",
       "        2006.05555556, 2006.36458333, 2006.67361111, 2006.98263889,\n",
       "        2007.29166667, 2007.60069444, 2007.90972222, 2008.21875   ,\n",
       "        2008.52777778, 2008.83680556, 2009.14583333, 2009.45486111,\n",
       "        2009.76388889, 2010.07291667, 2010.38194444, 2010.69097222,\n",
       "        2011.        ]),\n",
       " <a list of 288 Patch objects>)"
      ]
     },
     "execution_count": 66,
     "metadata": {},
     "output_type": "execute_result"
    }
   ],
   "source": [
    "plt.hist(y, bins=\"auto\")"
   ]
  },
  {
   "cell_type": "code",
   "execution_count": 67,
   "metadata": {},
   "outputs": [],
   "source": [
    "plt.show()"
   ]
  },
  {
   "cell_type": "code",
   "execution_count": 71,
   "metadata": {},
   "outputs": [],
   "source": [
    "regr = linear_model.LogisticRegression(multi_class=\"auto\")"
   ]
  },
  {
   "cell_type": "code",
   "execution_count": null,
   "metadata": {},
   "outputs": [],
   "source": [
    "regr.fit(X_train, y_train)"
   ]
  },
  {
   "cell_type": "code",
   "execution_count": null,
   "metadata": {},
   "outputs": [],
   "source": [
    "print \"h\""
   ]
  },
  {
   "cell_type": "code",
   "execution_count": 1,
   "metadata": {},
   "outputs": [
    {
     "name": "stdout",
     "output_type": "stream",
     "text": [
      "s\n"
     ]
    }
   ],
   "source": [
    "print \"s\"\n"
   ]
  },
  {
   "cell_type": "code",
   "execution_count": 1,
   "metadata": {},
   "outputs": [
    {
     "ename": "NameError",
     "evalue": "name 'y' is not defined",
     "output_type": "error",
     "traceback": [
      "\u001b[0;31m---------------------------------------------------------------------------\u001b[0m",
      "\u001b[0;31mNameError\u001b[0m                                 Traceback (most recent call last)",
      "\u001b[0;32m<ipython-input-1-3bd31d684b1f>\u001b[0m in \u001b[0;36m<module>\u001b[0;34m()\u001b[0m\n\u001b[0;32m----> 1\u001b[0;31m \u001b[0;32mprint\u001b[0m \u001b[0my\u001b[0m\u001b[0;34m\u001b[0m\u001b[0m\n\u001b[0m",
      "\u001b[0;31mNameError\u001b[0m: name 'y' is not defined"
     ]
    }
   ],
   "source": [
    "print y"
   ]
  },
  {
   "cell_type": "code",
   "execution_count": null,
   "metadata": {},
   "outputs": [],
   "source": []
  }
 ],
 "metadata": {
  "kernelspec": {
   "display_name": "Python 2",
   "language": "python",
   "name": "python2"
  },
  "language_info": {
   "codemirror_mode": {
    "name": "ipython",
    "version": 2
   },
   "file_extension": ".py",
   "mimetype": "text/x-python",
   "name": "python",
   "nbconvert_exporter": "python",
   "pygments_lexer": "ipython2",
   "version": "2.7.10"
  }
 },
 "nbformat": 4,
 "nbformat_minor": 2
}
