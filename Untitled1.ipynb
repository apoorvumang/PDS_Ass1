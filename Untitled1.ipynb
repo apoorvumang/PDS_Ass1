{
 "cells": [
  {
   "cell_type": "code",
   "execution_count": 1,
   "metadata": {},
   "outputs": [],
   "source": [
    "import numpy as np\n",
    "import math\n",
    "import datetime\n",
    "epsilon = 0.00000001\n",
    "def isRowZero(row):\n",
    "\tglobal epsilon\n",
    "\tfor entry in row:\n",
    "\t\tif(entry < 0):\n",
    "\t\t\tentry = -entry\n",
    "\t\tif(entry > epsilon):\n",
    "\t\t\treturn False\n",
    "\treturn True\n",
    "\n",
    "\n",
    "X = np.load(\"data/data_full_numpy.npy\")\n"
   ]
  },
  {
   "cell_type": "code",
   "execution_count": 2,
   "metadata": {},
   "outputs": [
    {
     "name": "stdout",
     "output_type": "stream",
     "text": [
      "[[ 2.0010000e+03  4.9943570e+01  2.1471140e+01 ... -1.8222300e+00\n",
      "  -2.7463480e+01  2.2632700e+00]\n",
      " [ 2.0010000e+03  4.8732150e+01  1.8429300e+01 ...  1.2049410e+01\n",
      "   5.8434530e+01  2.6920610e+01]\n",
      " [ 2.0010000e+03  5.0957140e+01  3.1856020e+01 ... -5.8590000e-02\n",
      "   3.9670680e+01 -6.6345000e-01]\n",
      " ...\n",
      " [ 2.0070000e+03  4.4376120e+01  1.6253100e+00 ... -4.3994800e+00\n",
      "   2.2429410e+01 -4.1089300e+00]\n",
      " [ 2.0060000e+03  4.4887230e+01  1.4147600e+01 ...  1.1570710e+01\n",
      "   1.0661509e+02  1.6808810e+01]\n",
      " [ 2.0070000e+03  5.0322010e+01  6.7119100e+00 ...  3.7773600e+00\n",
      "  -4.2948880e+01  5.2780000e-02]]\n"
     ]
    }
   ],
   "source": [
    "print X"
   ]
  },
  {
   "cell_type": "code",
   "execution_count": 3,
   "metadata": {},
   "outputs": [
    {
     "name": "stdout",
     "output_type": "stream",
     "text": [
      "[[ 2.0010000e+03  2.0010000e+03  2.0010000e+03 ...  2.0070000e+03\n",
      "   2.0060000e+03  2.0070000e+03]\n",
      " [ 4.9943570e+01  4.8732150e+01  5.0957140e+01 ...  4.4376120e+01\n",
      "   4.4887230e+01  5.0322010e+01]\n",
      " [ 2.1471140e+01  1.8429300e+01  3.1856020e+01 ...  1.6253100e+00\n",
      "   1.4147600e+01  6.7119100e+00]\n",
      " ...\n",
      " [-1.8222300e+00  1.2049410e+01 -5.8590000e-02 ... -4.3994800e+00\n",
      "   1.1570710e+01  3.7773600e+00]\n",
      " [-2.7463480e+01  5.8434530e+01  3.9670680e+01 ...  2.2429410e+01\n",
      "   1.0661509e+02 -4.2948880e+01]\n",
      " [ 2.2632700e+00  2.6920610e+01 -6.6345000e-01 ... -4.1089300e+00\n",
      "   1.6808810e+01  5.2780000e-02]]\n"
     ]
    }
   ],
   "source": [
    "print X.T\n"
   ]
  },
  {
   "cell_type": "code",
   "execution_count": 4,
   "metadata": {},
   "outputs": [
    {
     "name": "stdout",
     "output_type": "stream",
     "text": [
      "[[ 4.9943570e+01  2.1471140e+01  7.3077500e+01 ... -1.8222300e+00\n",
      "  -2.7463480e+01  2.2632700e+00]\n",
      " [ 4.8732150e+01  1.8429300e+01  7.0326790e+01 ...  1.2049410e+01\n",
      "   5.8434530e+01  2.6920610e+01]\n",
      " [ 5.0957140e+01  3.1856020e+01  5.5818510e+01 ... -5.8590000e-02\n",
      "   3.9670680e+01 -6.6345000e-01]\n",
      " ...\n",
      " [ 4.4376120e+01  1.6253100e+00  3.8165560e+01 ... -4.3994800e+00\n",
      "   2.2429410e+01 -4.1089300e+00]\n",
      " [ 4.4887230e+01  1.4147600e+01 -5.7069400e+00 ...  1.1570710e+01\n",
      "   1.0661509e+02  1.6808810e+01]\n",
      " [ 5.0322010e+01  6.7119100e+00  5.4056070e+01 ...  3.7773600e+00\n",
      "  -4.2948880e+01  5.2780000e-02]]\n"
     ]
    }
   ],
   "source": [
    "print X.T[1:].T"
   ]
  },
  {
   "cell_type": "code",
   "execution_count": 5,
   "metadata": {},
   "outputs": [],
   "source": [
    "#Y is first column\n",
    "Y = X.T[0]\n",
    "#removing first column\n",
    "X = X.T[1:].T\n"
   ]
  },
  {
   "cell_type": "code",
   "execution_count": 6,
   "metadata": {},
   "outputs": [
    {
     "name": "stdout",
     "output_type": "stream",
     "text": [
      "[2001. 2001. 2001. ... 2007. 2006. 2007.]\n"
     ]
    }
   ],
   "source": [
    "print Y"
   ]
  },
  {
   "cell_type": "code",
   "execution_count": 7,
   "metadata": {},
   "outputs": [
    {
     "name": "stdout",
     "output_type": "stream",
     "text": [
      "[[ 4.9943570e+01  2.1471140e+01  7.3077500e+01 ... -1.8222300e+00\n",
      "  -2.7463480e+01  2.2632700e+00]\n",
      " [ 4.8732150e+01  1.8429300e+01  7.0326790e+01 ...  1.2049410e+01\n",
      "   5.8434530e+01  2.6920610e+01]\n",
      " [ 5.0957140e+01  3.1856020e+01  5.5818510e+01 ... -5.8590000e-02\n",
      "   3.9670680e+01 -6.6345000e-01]\n",
      " ...\n",
      " [ 4.4376120e+01  1.6253100e+00  3.8165560e+01 ... -4.3994800e+00\n",
      "   2.2429410e+01 -4.1089300e+00]\n",
      " [ 4.4887230e+01  1.4147600e+01 -5.7069400e+00 ...  1.1570710e+01\n",
      "   1.0661509e+02  1.6808810e+01]\n",
      " [ 5.0322010e+01  6.7119100e+00  5.4056070e+01 ...  3.7773600e+00\n",
      "  -4.2948880e+01  5.2780000e-02]]\n"
     ]
    }
   ],
   "source": [
    "print X"
   ]
  },
  {
   "cell_type": "code",
   "execution_count": 8,
   "metadata": {},
   "outputs": [
    {
     "name": "stdout",
     "output_type": "stream",
     "text": [
      "463715\n"
     ]
    }
   ],
   "source": [
    "print len(X)"
   ]
  },
  {
   "cell_type": "code",
   "execution_count": 9,
   "metadata": {},
   "outputs": [],
   "source": [
    "num_test = (len(X)*2)/10\n"
   ]
  },
  {
   "cell_type": "code",
   "execution_count": 10,
   "metadata": {},
   "outputs": [
    {
     "name": "stdout",
     "output_type": "stream",
     "text": [
      "92743\n"
     ]
    }
   ],
   "source": [
    "print num_test"
   ]
  },
  {
   "cell_type": "code",
   "execution_count": 11,
   "metadata": {},
   "outputs": [],
   "source": [
    "X_train = X[:-num_test]\n",
    "X_test = X[-num_test:]\n",
    "\n",
    "Y_train = Y[:-num_test]\n",
    "Y_test = Y[-num_test:]"
   ]
  },
  {
   "cell_type": "code",
   "execution_count": 12,
   "metadata": {},
   "outputs": [
    {
     "name": "stdout",
     "output_type": "stream",
     "text": [
      "370972\n"
     ]
    }
   ],
   "source": [
    "print len(Y_train)"
   ]
  },
  {
   "cell_type": "code",
   "execution_count": 13,
   "metadata": {},
   "outputs": [
    {
     "name": "stdout",
     "output_type": "stream",
     "text": [
      "92743\n"
     ]
    }
   ],
   "source": [
    "print len(Y_test)"
   ]
  },
  {
   "cell_type": "code",
   "execution_count": 14,
   "metadata": {},
   "outputs": [
    {
     "ename": "SyntaxError",
     "evalue": "non-keyword arg after keyword arg (<ipython-input-14-ce475de95b6e>, line 44)",
     "output_type": "error",
     "traceback": [
      "\u001b[0;36m  File \u001b[0;32m\"<ipython-input-14-ce475de95b6e>\"\u001b[0;36m, line \u001b[0;32m44\u001b[0m\n\u001b[0;31m    score = getAlgoScores(reg=reg, X_train, Y_train, X_test, Y_test)\u001b[0m\n\u001b[0;31mSyntaxError\u001b[0m\u001b[0;31m:\u001b[0m non-keyword arg after keyword arg\n"
     ]
    }
   ],
   "source": [
    "import numpy as np\n",
    "import math\n",
    "import datetime\n",
    "from sklearn import linear_model\n",
    "from sklearn import Lasso\n",
    "from sklearn.metrics import r2_score\n",
    "\n",
    "epsilon = 0.00000001\n",
    "def isRowZero(row):\n",
    "\tglobal epsilon\n",
    "\tfor entry in row:\n",
    "\t\tif(entry < 0):\n",
    "\t\t\tentry = -entry\n",
    "\t\tif(entry > epsilon):\n",
    "\t\t\treturn False\n",
    "\treturn True\n",
    "\n",
    "\n",
    "def getAlgoScores(reg, x_train, y_train, x_test, y_test):\n",
    "\treg.fit(x_train, y_train)\n",
    "\ty_pred = reg.predict(x_test)\n",
    "\tscore = r2_score(y_test, y_pred)\n",
    "\treturn score\n",
    "\n",
    "\n",
    "X = np.load(\"data/data_full_numpy.npy\")\n",
    "\n",
    "#Y is first column\n",
    "Y = X.T[0]\n",
    "#removing first column\n",
    "X = X.T[1:].T\n",
    "\n",
    "num_test = (len(X)*2)/10\n",
    "\n",
    "#divide test and train\n",
    "X_train = X[:-num_test]\n",
    "X_test = X[-num_test:]\n",
    "\n",
    "Y_train = Y[:-num_test]\n",
    "Y_test = Y[-num_test:]\n",
    "\n",
    "reg = linear_model.LinearRegression()\n",
    "\n",
    "score = getAlgoScores(reg=reg, X_train, Y_train, X_test, Y_test)\n",
    "\n",
    "print score"
   ]
  },
  {
   "cell_type": "code",
   "execution_count": 16,
   "metadata": {},
   "outputs": [
    {
     "ename": "ImportError",
     "evalue": "cannot import name Lasso",
     "output_type": "error",
     "traceback": [
      "\u001b[0;31m---------------------------------------------------------------------------\u001b[0m",
      "\u001b[0;31mImportError\u001b[0m                               Traceback (most recent call last)",
      "\u001b[0;32m<ipython-input-16-4222973b0915>\u001b[0m in \u001b[0;36m<module>\u001b[0;34m()\u001b[0m\n\u001b[1;32m      3\u001b[0m \u001b[0;32mimport\u001b[0m \u001b[0mdatetime\u001b[0m\u001b[0;34m\u001b[0m\u001b[0m\n\u001b[1;32m      4\u001b[0m \u001b[0;32mfrom\u001b[0m \u001b[0msklearn\u001b[0m \u001b[0;32mimport\u001b[0m \u001b[0mlinear_model\u001b[0m\u001b[0;34m\u001b[0m\u001b[0m\n\u001b[0;32m----> 5\u001b[0;31m \u001b[0;32mfrom\u001b[0m \u001b[0msklearn\u001b[0m \u001b[0;32mimport\u001b[0m \u001b[0mLasso\u001b[0m\u001b[0;34m\u001b[0m\u001b[0m\n\u001b[0m\u001b[1;32m      6\u001b[0m \u001b[0;32mfrom\u001b[0m \u001b[0msklearn\u001b[0m\u001b[0;34m.\u001b[0m\u001b[0mmetrics\u001b[0m \u001b[0;32mimport\u001b[0m \u001b[0mr2_score\u001b[0m\u001b[0;34m\u001b[0m\u001b[0m\n\u001b[1;32m      7\u001b[0m \u001b[0;34m\u001b[0m\u001b[0m\n",
      "\u001b[0;31mImportError\u001b[0m: cannot import name Lasso"
     ]
    }
   ],
   "source": [
    "import numpy as np\n",
    "import math\n",
    "import datetime\n",
    "from sklearn import linear_model\n",
    "from sklearn import Lasso\n",
    "from sklearn.metrics import r2_score\n",
    "\n",
    "epsilon = 0.00000001\n",
    "def isRowZero(row):\n",
    "\tglobal epsilon\n",
    "\tfor entry in row:\n",
    "\t\tif(entry < 0):\n",
    "\t\t\tentry = -entry\n",
    "\t\tif(entry > epsilon):\n",
    "\t\t\treturn False\n",
    "\treturn True\n",
    "\n",
    "\n",
    "def getAlgoScores(reg, x_train, y_train, x_test, y_test):\n",
    "\treg.fit(x_train, y_train)\n",
    "\ty_pred = reg.predict(x_test)\n",
    "\tscore = r2_score(y_test, y_pred)\n",
    "\treturn score\n",
    "\n",
    "\n",
    "X = np.load(\"data/data_full_numpy.npy\")\n",
    "\n",
    "#Y is first column\n",
    "Y = X.T[0]\n",
    "#removing first column\n",
    "X = X.T[1:].T\n",
    "\n",
    "num_test = (len(X)*2)/10\n",
    "\n",
    "#divide test and train\n",
    "X_train = X[:-num_test]\n",
    "X_test = X[-num_test:]\n",
    "\n",
    "Y_train = Y[:-num_test]\n",
    "Y_test = Y[-num_test:]\n",
    "\n",
    "reg = linear_model.LinearRegression()\n",
    "\n",
    "score = getAlgoScores(reg, X_train, Y_train, X_test, Y_test)\n",
    "\n",
    "print score"
   ]
  },
  {
   "cell_type": "code",
   "execution_count": 18,
   "metadata": {},
   "outputs": [
    {
     "name": "stdout",
     "output_type": "stream",
     "text": [
      "0.2390102548238655\n",
      "0.23901024513723101\n",
      "0.23889237017387577\n"
     ]
    }
   ],
   "source": [
    "import numpy as np\n",
    "import math\n",
    "import datetime\n",
    "from sklearn import linear_model\n",
    "from sklearn.metrics import r2_score\n",
    "\n",
    "epsilon = 0.00000001\n",
    "def isRowZero(row):\n",
    "\tglobal epsilon\n",
    "\tfor entry in row:\n",
    "\t\tif(entry < 0):\n",
    "\t\t\tentry = -entry\n",
    "\t\tif(entry > epsilon):\n",
    "\t\t\treturn False\n",
    "\treturn True\n",
    "\n",
    "\n",
    "def getAlgoScores(reg, x_train, y_train, x_test, y_test):\n",
    "\treg.fit(x_train, y_train)\n",
    "\ty_pred = reg.predict(x_test)\n",
    "\tscore = r2_score(y_test, y_pred)\n",
    "\treturn score\n",
    "\n",
    "\n",
    "X = np.load(\"data/data_full_numpy.npy\")\n",
    "\n",
    "#Y is first column\n",
    "Y = X.T[0]\n",
    "#removing first column\n",
    "X = X.T[1:].T\n",
    "\n",
    "num_test = (len(X)*2)/10\n",
    "\n",
    "#divide test and train\n",
    "X_train = X[:-num_test]\n",
    "X_test = X[-num_test:]\n",
    "\n",
    "Y_train = Y[:-num_test]\n",
    "Y_test = Y[-num_test:]\n",
    "\n",
    "reg = linear_model.LinearRegression()\n",
    "print getAlgoScores(reg, X_train, Y_train, X_test, Y_test)\n",
    "\n",
    "reg = linear_model.RidgeCV(alphas=[0.1, 1.0, 10.0], cv=3)\n",
    "print getAlgoScores(reg, X_train, Y_train, X_test, Y_test)\n",
    "\n",
    "reg = linear_model.Lasso(alpha=0.1)\n",
    "print getAlgoScores(reg, X_train, Y_train, X_test, Y_test)\n"
   ]
  },
  {
   "cell_type": "code",
   "execution_count": null,
   "metadata": {},
   "outputs": [],
   "source": []
  }
 ],
 "metadata": {
  "kernelspec": {
   "display_name": "Python 2",
   "language": "python",
   "name": "python2"
  },
  "language_info": {
   "codemirror_mode": {
    "name": "ipython",
    "version": 2
   },
   "file_extension": ".py",
   "mimetype": "text/x-python",
   "name": "python",
   "nbconvert_exporter": "python",
   "pygments_lexer": "ipython2",
   "version": "2.7.10"
  }
 },
 "nbformat": 4,
 "nbformat_minor": 2
}
